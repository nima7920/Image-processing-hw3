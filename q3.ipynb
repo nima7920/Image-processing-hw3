{
 "cells": [
  {
   "cell_type": "markdown",
   "source": [
    "## Question 3: Image completion\n",
    "We use patch match method for completing the given two images.\n",
    "Functions are implemented in `q3_funcs`"
   ],
   "metadata": {
    "collapsed": false
   }
  },
  {
   "cell_type": "markdown",
   "source": [
    "## How the algorithm works?\n",
    "Algorithm is rather similar to the original patch match method. Beginning with an\n",
    "initial image, a reference image and a given patch size, in each iteration, we perform\n",
    "propagation and random search on the image and update main image at the end of the iteration.\n",
    "In the main image, we left a margin of patch size on the right and bottom unchanged,\n",
    "and for updating the value of a pixel, we just take the corresponding values on the reference\n",
    "which are on the square with side length $\\frac{patch size}{2}$ on the lefth-top of the pixel\n",
    "and calculate their average. Functions used in each step are described below :"
   ],
   "metadata": {
    "collapsed": false,
    "pycharm": {
     "name": "#%% md\n"
    }
   }
  },
  {
   "cell_type": "markdown",
   "source": [
    "## q3_funcs\n",
    "First functions generates a random offset matrix from given\n",
    "image and reference and a patch size :"
   ],
   "metadata": {
    "collapsed": false
   }
  },
  {
   "cell_type": "code",
   "execution_count": null,
   "outputs": [],
   "source": [
    "import random\n",
    "\n",
    "import numpy as np\n",
    "import cv2\n",
    "import q2_funcs as q2\n",
    "\n",
    "''' patch match method for image completion '''\n",
    "\n",
    "def initialize_random(A, B, patch_size):\n",
    "    A_dims, B_dims = A.shape, B.shape\n",
    "    offsets_x = np.zeros((A_dims[0] - patch_size[0], A_dims[1] - patch_size[1]), dtype='int16')\n",
    "    offsets_y = np.zeros((A_dims[0] - patch_size[0], A_dims[1] - patch_size[1]), dtype='int16')\n",
    "    for i in range(A_dims[0] - patch_size[0]):\n",
    "        for j in range(A_dims[1] - patch_size[1]):\n",
    "            offsets_x[i, j] = np.random.randint(-i, B_dims[0] - i - patch_size[0] - 1)\n",
    "            offsets_y[i, j] = np.random.randint(-j, B_dims[1] - j - patch_size[1] - 1)\n",
    "    offsets = np.zeros((A_dims[0] - patch_size[0], A_dims[1] - patch_size[1], 2), dtype='int16')\n",
    "    offsets[:, :, 0] = offsets_x.copy()\n",
    "    offsets[:, :, 1] = offsets_y.copy()\n",
    "    return offsets"
   ],
   "metadata": {
    "collapsed": false,
    "pycharm": {
     "name": "#%%\n"
    }
   }
  },
  {
   "cell_type": "markdown",
   "source": [
    "Next function is used to find the difference of the patch of a pixel\n",
    "in main image with its patch in reference image. Method used for\n",
    "getting difference is SSD :\n"
   ],
   "metadata": {
    "collapsed": false
   }
  },
  {
   "cell_type": "code",
   "execution_count": null,
   "outputs": [],
   "source": [
    "def find_difference(A, B, offsets, patch_size, x, y):\n",
    "    patch_A = A[x:x + patch_size[0], y:y + patch_size[1], :].copy()\n",
    "    patch_B = B[x + int(offsets[x, y, 0]):x + int(offsets[x, y, 0]) + patch_size[0],\n",
    "              y + int(offsets[x, y, 1]):y + int(offsets[x, y, 1]) + patch_size[1], :].copy()\n",
    "    ssd = np.sum(np.square(patch_A - patch_B))\n",
    "    return ssd"
   ],
   "metadata": {
    "collapsed": false,
    "pycharm": {
     "name": "#%%\n"
    }
   }
  },
  {
   "cell_type": "markdown",
   "source": [
    "function `get_random_patch` generates the coordinates of a\n",
    "random patch in reference image from a given boundary.\n",
    "It is being used in `random_search` function :"
   ],
   "metadata": {
    "collapsed": false
   }
  },
  {
   "cell_type": "code",
   "execution_count": null,
   "outputs": [],
   "source": [
    "def get_random_patch(B, x_min, x_max, y_min, y_max, patch_size):\n",
    "    high_x, high_y = x_max - patch_size[0], y_max - patch_size[1]\n",
    "    x, y = np.random.randint(x_min, high_x - 1), np.random.randint(y_min, high_y - 1)\n",
    "    return x, y"
   ],
   "metadata": {
    "collapsed": false,
    "pycharm": {
     "name": "#%%\n"
    }
   }
  },
  {
   "cell_type": "markdown",
   "source": [
    "Next function performs the random search step of patch match,\n",
    "with given x,y coordinates of pixel in main image, and difference\n",
    "calculated of neighbor pixels patch :"
   ],
   "metadata": {
    "collapsed": false
   }
  },
  {
   "cell_type": "code",
   "execution_count": null,
   "outputs": [],
   "source": [
    "def random_search(A, B, offsets, patch_size, x, y, d, alpha):\n",
    "    patch_A = A[x:x + patch_size[0], y:y + patch_size[1], :].copy()\n",
    "    x_b, y_b = x + offsets[x, y, 0], y + offsets[x, y, 1]\n",
    "    offset_final = offsets[x, y].copy()\n",
    "    d_min = d\n",
    "    # parameters indicating window :\n",
    "    x_min, x_max = 0, B.shape[0] - 1\n",
    "    y_min, y_max = 0, B.shape[1] - 1\n",
    "    while (x_max - x_min) > 2 * patch_size[0] and (y_max - y_min) > 2 * patch_size[1]:\n",
    "        x_r, y_r = get_random_patch(B, x_min, x_max, y_min, y_max, patch_size)\n",
    "        random_patch = B[x_r:x_r + patch_size[0], y_r:y_r + patch_size[1], :].copy()\n",
    "        ssd = np.sum(np.square(patch_A - random_patch))\n",
    "        if ssd < d_min:\n",
    "            d_min = ssd\n",
    "            offset_final = (x_r - x, y_r - y)\n",
    "        # updating window\n",
    "        x_min, x_max = x_min + int((x_b - x_min) / alpha), x_max - int((x_max - x_min - patch_size[0]) / alpha)\n",
    "        y_min, y_max = y_min + int((y_b - y_min) / alpha), y_max - int((y_max - y_min - patch_size[1]) / alpha)\n",
    "    return offset_final"
   ],
   "metadata": {
    "collapsed": false,
    "pycharm": {
     "name": "#%%\n"
    }
   }
  },
  {
   "cell_type": "markdown",
   "source": [
    "Window is initially the whole reference, and in each step, decreases\n",
    "with rate alpha."
   ],
   "metadata": {
    "collapsed": false
   }
  },
  {
   "cell_type": "markdown",
   "source": [
    "`update_value` function is used to calculate the value of a\n",
    "pixel in main image from reference and offsets. Coordinates of\n",
    "pixel is given in x,y:"
   ],
   "metadata": {
    "collapsed": false
   }
  },
  {
   "cell_type": "code",
   "execution_count": null,
   "outputs": [],
   "source": [
    "def update_value(A, B, offsets, patch_size, x, y):\n",
    "    values_x = offsets[max(0, x - int(patch_size[0] / 2) + 1):x + 1, max(0, y - int(patch_size[1] / 2) + 1): y + 1,\n",
    "               0] + x\n",
    "    values_y = offsets[max(0, x - int(patch_size[0] / 2) + 1):x + 1, max(0, y - int(patch_size[1] / 2) + 1): y + 1,\n",
    "               1] + y\n",
    "    values_x = values_x.reshape(-1).astype('int16')\n",
    "    values_y = values_y.reshape(-1).astype('int16')\n",
    "    value = np.array(\n",
    "        [np.sum(B[values_x, values_y, 0]), np.sum(B[values_x, values_y, 1]), np.sum(B[values_x, values_y, 2])]) / (\n",
    "                values_x.shape[0])\n",
    "    A[x, y] = value"
   ],
   "metadata": {
    "collapsed": false,
    "pycharm": {
     "name": "#%%\n"
    }
   }
  },
  {
   "cell_type": "markdown",
   "source": [
    "The value is calculated by taking an average over the corresponding\n",
    "values of the pixel in neighbor pixels patches in reference."
   ],
   "metadata": {
    "collapsed": false
   }
  },
  {
   "cell_type": "markdown",
   "source": [
    "Two function `propagation_odd` and `propagation_even` perform\n",
    "propagation step for odd and even iterations. implementation is\n",
    "just in the way used in original patch match :"
   ],
   "metadata": {
    "collapsed": false
   }
  },
  {
   "cell_type": "code",
   "execution_count": null,
   "outputs": [],
   "source": [
    "def propagate_odd(A, B, offsets, patch_size, alpha=2):\n",
    "    m, n = A.shape[0] - patch_size[0], A.shape[1] - patch_size[1]\n",
    "    for i in range(m):\n",
    "        for j in range(n):\n",
    "            if i == 0:  # on the first row\n",
    "                if j > 0:\n",
    "                    d1, d2 = find_difference(A, B, offsets, patch_size, i, j), find_difference(A, B, offsets,\n",
    "                                                                                               patch_size, i, j - 1)\n",
    "                    d = min(d1, d2)\n",
    "                    if d == d2:\n",
    "                        if offsets[i, j - 1, 1] + j < B.shape[1] - patch_size[1]:\n",
    "                            offsets[i, j] = (offsets[i, j - 1, 0], offsets[i, j - 1, 1])\n",
    "                        else:\n",
    "                            offsets[i, j] = (offsets[i, j - 1, 0], offsets[i, j - 1, 1] - 1)\n",
    "                    offset_final = random_search(A, B, offsets, patch_size, i, j, d, alpha)\n",
    "                    offsets[i, j] = offset_final\n",
    "                    # update_value(A, B, offsets, patch_size, i, j)\n",
    "            else:\n",
    "                if j > 0:  # inside the matrix\n",
    "                    d1 = find_difference(A, B, offsets, patch_size, i, j)\n",
    "                    d2 = find_difference(A, B, offsets, patch_size, i - 1, j)\n",
    "                    d3 = find_difference(A, B, offsets, patch_size, i, j - 1)\n",
    "                    d = min(d1, d2, d3)\n",
    "                    if d == d2:\n",
    "                        if offsets[i - 1, j, 0] + i < B.shape[0] - patch_size[0]:\n",
    "                            offsets[i, j] = (offsets[i - 1, j, 0], offsets[i - 1, j, 1])\n",
    "                        else:\n",
    "                            offsets[i, j] = (offsets[i - 1, j, 0] - 1, offsets[i - 1, j, 1])\n",
    "                    elif d == d3:\n",
    "                        if offsets[i, j - 1, 1] + j < B.shape[1] - patch_size[1]:\n",
    "                            offsets[i, j] = (offsets[i, j - 1, 0], offsets[i, j - 1, 1])\n",
    "                        else:\n",
    "                            offsets[i, j] = (offsets[i, j - 1, 0], offsets[i, j - 1, 1] - 1)\n",
    "                else:  # on the first column\n",
    "                    d1, d2 = find_difference(A, B, offsets, patch_size, i, j), find_difference(A, B, offsets,\n",
    "                                                                                               patch_size, i - 1, j)\n",
    "                    d = min(d1, d2)\n",
    "                    if d == d2:\n",
    "                        if offsets[i - 1, j, 0] + i < B.shape[0] - patch_size[0]:\n",
    "                            offsets[i, j] = (offsets[i - 1, j, 0], offsets[i - 1, j, 1])\n",
    "                        else:\n",
    "                            offsets[i, j] = (offsets[i - 1, j, 0] - 1, offsets[i - 1, j, 1])\n",
    "                offset_final = random_search(A, B, offsets, patch_size, i, j, d, alpha)\n",
    "                offsets[i, j] = offset_final\n",
    "                # update_value(A, B, offsets, patch_size, i, j)\n"
   ],
   "metadata": {
    "collapsed": false,
    "pycharm": {
     "name": "#%%\n"
    }
   }
  },
  {
   "cell_type": "code",
   "execution_count": null,
   "outputs": [],
   "source": [
    "def propagate_even(A, B, offsets, patch_size, alpha=2):\n",
    "    m, n = A.shape[0] - patch_size[0], A.shape[1] - patch_size[1]\n",
    "    for i in reversed(range(m)):\n",
    "        for j in reversed(range(n)):\n",
    "            if i == m - 1:  # on the last row\n",
    "                if j < n - 1:\n",
    "                    d1, d2 = find_difference(A, B, offsets, patch_size, i, j), find_difference(A, B, offsets,\n",
    "                                                                                               patch_size, i, j + 1)\n",
    "                    d = min(d1, d2)\n",
    "                    if d == d2:\n",
    "                        if offsets[i, j + 1, 1] + j >= 0:\n",
    "                            offsets[i, j] = (offsets[i, j + 1, 0], offsets[i, j + 1, 1])\n",
    "                        else:\n",
    "                            offsets[i, j] = (offsets[i, j + 1, 0], offsets[i, j + 1, 1] + 1)\n",
    "                    offset_final = random_search(A, B, offsets, patch_size, i, j, d, alpha)\n",
    "                    offsets[i, j] = offset_final\n",
    "                    # update_value(A, B, offsets, patch_size, i, j)\n",
    "            else:\n",
    "                if j < n - 1:  # inside the matrix\n",
    "                    d1 = find_difference(A, B, offsets, patch_size, i, j)\n",
    "                    d2 = find_difference(A, B, offsets, patch_size, i + 1, j)\n",
    "                    d3 = find_difference(A, B, offsets, patch_size, i, j + 1)\n",
    "                    d = min(d1, d2, d3)\n",
    "                    if d == d2:\n",
    "                        if offsets[i + 1, j, 0] + i >= 0:\n",
    "                            offsets[i, j] = (offsets[i + 1, j, 0], offsets[i + 1, j, 1])\n",
    "                        else:\n",
    "                            offsets[i, j] = (offsets[i + 1, j, 0] + 1, offsets[i + 1, j, 1])\n",
    "                    elif d == d3:\n",
    "                        if offsets[i, j + 1, 1] + j >= 0:\n",
    "                            offsets[i, j] = (offsets[i, j + 1, 0], offsets[i, j + 1, 1])\n",
    "                        else:\n",
    "                            offsets[i, j] = (offsets[i, j + 1, 0], offsets[i, j + 1, 1] + 1)\n",
    "                else:  # on the last column\n",
    "                    d1, d2 = find_difference(A, B, offsets, patch_size, i, j), find_difference(A, B, offsets,\n",
    "                                                                                               patch_size, i + 1, j)\n",
    "                    d = min(d1, d2)\n",
    "                    if d == d2:\n",
    "                        if offsets[i + 1, j, 0] + i >= 0:\n",
    "                            offsets[i, j] = (offsets[i + 1, j, 0], offsets[i + 1, j, 1])\n",
    "                        else:\n",
    "                            offsets[i, j] = (offsets[i + 1, j, 0] + 1, offsets[i + 1, j, 1])\n",
    "                offset_final = random_search(A, B, offsets, patch_size, i, j, d, alpha)\n",
    "                offsets[i, j] = offset_final\n",
    "                # update_value(A, B, offsets, patch_size, i, j)"
   ],
   "metadata": {
    "collapsed": false,
    "pycharm": {
     "name": "#%%\n"
    }
   }
  },
  {
   "cell_type": "markdown",
   "source": [
    "function `generate_image` creates the whole image using reference and\n",
    "offsets and `update_value` method:"
   ],
   "metadata": {
    "collapsed": false
   }
  },
  {
   "cell_type": "code",
   "execution_count": null,
   "outputs": [],
   "source": [
    "def generate_image(A, patch_size, offsets, B):\n",
    "    m, n = offsets.shape[0], offsets.shape[1]\n",
    "    for i in range(m):\n",
    "        for j in range(n):\n",
    "            update_value(A, B, offsets, patch_size, i, j)"
   ],
   "metadata": {
    "collapsed": false,
    "pycharm": {
     "name": "#%%\n"
    }
   }
  },
  {
   "cell_type": "markdown",
   "source": [
    "Finally, `perform_patch` gets main image,reference and the number of iterations\n",
    "and performs pathc match using the functions implemented before:"
   ],
   "metadata": {
    "collapsed": false
   }
  },
  {
   "cell_type": "code",
   "execution_count": null,
   "outputs": [],
   "source": [
    "def perform_patch_match(A,B,patch_size,iteration=4):\n",
    "    offsets=initialize_random(A,B,patch_size)\n",
    "    for i in range(iteration):\n",
    "        propagate_odd(A, B, offsets, patch_size)\n",
    "        generate_image(A, patch_size, offsets, B)\n",
    "\n",
    "        propagate_even(A, B, offsets, patch_size)\n",
    "        generate_image(A, patch_size, offsets, B)\n",
    "    return A"
   ],
   "metadata": {
    "collapsed": false,
    "pycharm": {
     "name": "#%%\n"
    }
   }
  },
  {
   "cell_type": "markdown",
   "source": [
    "The two final functions are for image completion using\n",
    "texture synthesis, which is not used in this question ( and we won't\n",
    "describe it )"
   ],
   "metadata": {
    "collapsed": false
   }
  },
  {
   "cell_type": "code",
   "execution_count": null,
   "outputs": [],
   "source": [
    "def synthesis_row_i(img, texture, patch_size, overlap, i):\n",
    "    x = i * (patch_size[0] - overlap)\n",
    "    mask = np.zeros((patch_size[0], patch_size[1], 3), dtype='uint8')\n",
    "    mask[0:overlap, :, :] = 1\n",
    "    mask[:, 0:overlap, :] = 1\n",
    "    number_of_patches = int((img.shape[1] - patch_size[1]) / (patch_size[1] - overlap))\n",
    "    for j in range(number_of_patches + 1):\n",
    "        template_x = j * (patch_size[1] - overlap)\n",
    "        template = img[x:x + patch_size[0], template_x:template_x + patch_size[1], :].copy()\n",
    "        x1, y1 = q2.find_patch_from_L_template(texture[0:-patch_size[0], 0:-patch_size[1], :], template, mask)\n",
    "        template2 = texture[x1:x1 + patch_size[1], y1:y1 + patch_size[0], :].copy()\n",
    "        min_cut = q2.find_L_min_cut(template, template2, overlap)\n",
    "        patch = (min_cut * template + (1 - min_cut) * template2).copy()\n",
    "        img[x:x + patch_size[0], template_x:template_x + patch_size[1], :] = patch.copy()\n",
    "\n",
    "\n",
    "def complete_image_with_texture(img, texture, patch_size, overlap):\n",
    "    num_of_iterations = int(img.shape[0] / (patch_size[0] - overlap)) - 1\n",
    "    for i in range(num_of_iterations):\n",
    "        synthesis_row_i(img, texture, patch_size, overlap, i)"
   ],
   "metadata": {
    "collapsed": false,
    "pycharm": {
     "name": "#%%\n"
    }
   }
  },
  {
   "cell_type": "markdown",
   "source": [
    "## Main Question code\n",
    "In main file, we use previous functions to complete the image.\n",
    "For first image (birds ) , some parts of the main image, with theier corresponding\n",
    "reference parts are selected to be reconstructed with patch match.\n",
    "In the second image ( the swimmer ) a rectangle containing the swimmer is selected ,\n",
    "as well as the bottom part of the image ( as reference ) and patch match is applied."
   ],
   "metadata": {
    "collapsed": false
   }
  },
  {
   "cell_type": "code",
   "execution_count": null,
   "outputs": [],
   "source": [
    "import numpy as np\n",
    "import cv2\n",
    "import q3_funcs\n",
    "\n",
    "input_paths = [\"inputs/im03-1.jpg\", \"inputs/im04.jpg\"]\n",
    "\n",
    "output_paths = [\"outputs/res15.jpg\", \"outputs/res16.jpg\"]\n",
    "\n",
    "img_birds = cv2.imread(input_paths[0])\n",
    "img_swimmer = cv2.imread(input_paths[1])\n",
    "\n",
    "''' removing birds  '''\n",
    "\n",
    "result_birds = img_birds.copy()\n",
    "patch_size = (6, 6)\n",
    "# two bottom birds\n",
    "A1 = img_birds[700:950, 820:980, :].copy()\n",
    "B1 = img_birds[720:950, 480:780, :].copy()\n",
    "result1 = q3_funcs.perform_patch_match(A1, B1, patch_size, 4)\n",
    "result_birds[700:950, 820:980, :] = result1\n",
    "\n",
    "A2 = img_birds[610:740, 1130:1250, :].copy()\n",
    "B2 = img_birds[550:650, 1110:1155, :].copy()\n",
    "result2 = q3_funcs.perform_patch_match(A2, B2, patch_size, 4)\n",
    "result_birds[610:740, 1130:1250, :] = result2\n",
    "\n",
    "A3_1_2 = result_birds[120:175, 325:381, :].copy()\n",
    "B3_1 = img_birds[140:240, 330:390, :].copy()\n",
    "result3_1_2 = q3_funcs.perform_patch_match(A3_1_2, B3_1, patch_size, 4)\n",
    "result_birds[120:175, 325:381, :] = result3_1_2\n",
    "\n",
    "A3_1_1 = result_birds[65:175, 325:381, :].copy()\n",
    "B3_1 = img_birds[140:240, 330:390, :].copy()\n",
    "result3_1_1 = q3_funcs.perform_patch_match(A3_1_1, B3_1, patch_size, 4)\n",
    "result_birds[65:175, 325:381, :] = result3_1_1\n",
    "\n",
    "\n",
    "A3_2 = result_birds[65:175, 375:441, :].copy()\n",
    "B3_2 = img_birds[80:165, 220:305, :].copy()\n",
    "result3_2 = q3_funcs.perform_patch_match(A3_2, B3_2, patch_size, 4)\n",
    "result_birds[65:175, 375:441, :] = result3_2\n",
    "\n",
    "A3_3 = result_birds[65:175, 435:491, :].copy()\n",
    "B3_3 = img_birds[120:240, 425:480, :].copy()\n",
    "result3_3 = q3_funcs.perform_patch_match(A3_3, B3_3, patch_size, 4)\n",
    "result_birds[65:175, 435:491, :] = result3_3\n",
    "\n",
    "A3_4 = result_birds[65:175, 485:551, :].copy()\n",
    "B3_4 = img_birds[140:270, 460:530, :].copy()\n",
    "result3_4 = q3_funcs.perform_patch_match(A3_4, B3_4, patch_size, 4)\n",
    "result_birds[65:175, 485:551, :] = result3_4\n",
    "\n",
    "cv2.imwrite(output_paths[0], result_birds)\n",
    "\n",
    "''' removing swimmer '''\n",
    "patch_size = (6, 6)\n",
    "A = img_swimmer[680:1200 + patch_size[0], 740:960 + patch_size[1], :].copy()\n",
    "B = img_swimmer[1200:, :, :].copy()\n",
    "offsets = q3_funcs.initialize_random(A, B, patch_size)\n",
    "result = q3_funcs.perform_patch_match(A, B, patch_size, 4)\n",
    "img_swimmer[680:1200 + patch_size[0], 740:960 + patch_size[1], :] = result\n",
    "cv2.imwrite(output_paths[1], img_swimmer)\n",
    "\n",
    "# result = q3_funcs.perform_patch_match(A, B, patch_size, 4)\n",
    "# img_birds[50:170 + patch_size[0], 330:550 + patch_size[1], :] = result\n",
    "\n",
    "A1 = A[:, 0:45, :].copy()\n",
    "B1 = img_birds[140:190, 330:370, :].copy()\n",
    "\n",
    "result = q3_funcs.perform_patch_match(A1, B1, patch_size, 4)\n",
    "cv2.imwrite(output_paths[0], img_birds)"
   ],
   "metadata": {
    "collapsed": false,
    "pycharm": {
     "name": "#%%\n"
    }
   }
  },
  {
   "cell_type": "code",
   "execution_count": null,
   "outputs": [],
   "source": [
    "patch_size = (6, 6)\n",
    "A = img_swimmer[680:1200 + patch_size[0], 740:960 + patch_size[1], :].copy()\n",
    "B = img_swimmer[1200:, :, :].copy()\n",
    "offsets = q3_funcs.initialize_random(A, B, patch_size)\n",
    "result=q3_funcs.perform_patch_match(A,B,patch_size,4)\n",
    "img_swimmer[680:1200 + patch_size[0], 740:960 + patch_size[1], :] = result\n",
    "cv2.imwrite(output_paths[1], img_swimmer)"
   ],
   "metadata": {
    "collapsed": false,
    "pycharm": {
     "name": "#%%\n"
    }
   }
  },
  {
   "cell_type": "markdown",
   "source": [
    "Note : Although the main algorithm (patch match ) seems to work fine,\n",
    "result of the first image is not very good; branches behind the birds\n",
    "on the top left of the image are not reconstructed very well.\n",
    "This might be happening because of selecting bad references or\n",
    "not splitting this part properly."
   ],
   "metadata": {
    "collapsed": false
   }
  }
 ],
 "metadata": {
  "kernelspec": {
   "display_name": "Python 3",
   "language": "python",
   "name": "python3"
  },
  "language_info": {
   "codemirror_mode": {
    "name": "ipython",
    "version": 2
   },
   "file_extension": ".py",
   "mimetype": "text/x-python",
   "name": "python",
   "nbconvert_exporter": "python",
   "pygments_lexer": "ipython2",
   "version": "2.7.6"
  }
 },
 "nbformat": 4,
 "nbformat_minor": 0
}