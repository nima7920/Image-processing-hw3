{
 "cells": [
  {
   "cell_type": "markdown",
   "metadata": {
    "collapsed": true,
    "pycharm": {
     "name": "#%% md\n"
    }
   },
   "source": [
    "## Question 2: Texture Synthesis"
   ]
  },
  {
   "cell_type": "markdown",
   "source": [
    "first , we import needed libraries and files :"
   ],
   "metadata": {
    "collapsed": false,
    "pycharm": {
     "name": "#%% md\n"
    }
   }
  },
  {
   "cell_type": "code",
   "execution_count": null,
   "outputs": [],
   "source": [
    "import numpy as np\n",
    "import cv2\n",
    "import q2_funcs\n"
   ],
   "metadata": {
    "collapsed": false,
    "pycharm": {
     "name": "#%%\n"
    }
   }
  },
  {
   "cell_type": "markdown",
   "source": [
    "Functions used in the question are implemented in\n",
    "q2_funcs.py. Implementation of these functions are as follow:\n"
   ],
   "metadata": {
    "collapsed": false
   }
  },
  {
   "cell_type": "markdown",
   "source": [
    "## q2_funcs.py\n",
    "\n",
    "The first function in the file is `get_random_patch` which gets texture and patch_size\n",
    "as input and outputs a random patch from texture with the given size:\n",
    "\n"
   ],
   "metadata": {
    "collapsed": false
   }
  },
  {
   "cell_type": "code",
   "execution_count": null,
   "outputs": [],
   "source": [
    "import numpy as np\n",
    "import cv2\n",
    "import random\n",
    "\n",
    "\n",
    "def get_random_patch(texture, patch_size):\n",
    "    x_max, y_max = texture.shape[0] - patch_size[0] - 1, texture.shape[1] - patch_size[1] - 1\n",
    "    x, y = random.randint(0, x_max), random.randint(0, y_max)\n",
    "    patch = texture[x:x + patch_size[0], y:y + patch_size[1], :].copy()\n",
    "    return patch\n"
   ],
   "metadata": {
    "collapsed": false,
    "pycharm": {
     "name": "#%%\n"
    }
   }
  },
  {
   "cell_type": "markdown",
   "source": [
    "Second function is `find_patch_from_template` , which is used to find all the\n",
    "patches from the texture that match a given template. This method takes only templates\n",
    "of rectangular shape, and is only used when synthesising the first row and\n",
    "first column of the result :\n"
   ],
   "metadata": {
    "collapsed": false
   }
  },
  {
   "cell_type": "code",
   "execution_count": null,
   "outputs": [],
   "source": [
    "def find_patch_from_template(texture, template):\n",
    "    search_result = cv2.matchTemplate(texture, template, cv2.TM_CCORR_NORMED)\n",
    "    threshold = 0.95\n",
    "    while threshold > 0.5:\n",
    "        match_points_x, match_points_y = np.where(search_result > threshold)\n",
    "        if match_points_x.size > 0:\n",
    "            i = random.randint(0, match_points_x.size - 1)\n",
    "            x, y = match_points_x[i], match_points_y[i]\n",
    "            return x, y\n",
    "        threshold -= 0.05\n"
   ],
   "metadata": {
    "collapsed": false,
    "pycharm": {
     "name": "#%%\n"
    }
   }
  },
  {
   "cell_type": "markdown",
   "source": [
    "Function begins with a base threshold 0.95, and then iterates\n",
    "on this value by decreasing it 0.05 and finding all results\n",
    "which are above the threshold in each iteration. At any time that\n",
    "there is at least one result, iteration would be stopped and location\n",
    "of one of the results will be randomly returned.\n"
   ],
   "metadata": {
    "collapsed": false
   }
  },
  {
   "cell_type": "markdown",
   "source": [
    "From here, we have functions related to finding min-cut. Function\n",
    "`find_path` takes a matrix of weights as input and outputs a matrix\n",
    "with elements showing the min-cut, derived from these weights:\n"
   ],
   "metadata": {
    "collapsed": false
   }
  },
  {
   "cell_type": "code",
   "execution_count": null,
   "outputs": [],
   "source": [
    "def find_path(weights):\n",
    "    result = np.zeros((weights.shape[0], weights.shape[1], 3))\n",
    "    index = np.where(weights[-1, :] == np.min(weights[-1, :]))[0][0]\n",
    "    result[-1, 0:index, :] = 1\n",
    "    for i in reversed(range(weights.shape[0] - 1)):\n",
    "        if index == 0:\n",
    "            if weights[i, 0] > weights[i, 1]:\n",
    "                index = 1\n",
    "                result[i, 0, :] = 1\n",
    "        elif index == weights.shape[1] - 1:\n",
    "            if weights[i, index] > weights[i, index - 1]:\n",
    "                index = index - 1\n",
    "            result[i, 0:index, :] = 1\n",
    "        else:\n",
    "            t = min(weights[i, index - 1], weights[i, index], weights[i, index + 1])\n",
    "            if weights[i, index - 1] == t:\n",
    "                index = index - 1\n",
    "            elif weights[i, index + 1] == t:\n",
    "                index = index + 1\n",
    "            result[i, 0:index, :] = 1\n",
    "    return result\n"
   ],
   "metadata": {
    "collapsed": false,
    "pycharm": {
     "name": "#%%\n"
    }
   }
  },
  {
   "cell_type": "markdown",
   "source": [
    "In result matrix, all the cells on the left side of min-cut have\n",
    "value 1 and cells on the right side of min-cut have value 0. Setting\n",
    " result in this way makes further computations simpler."
   ],
   "metadata": {
    "collapsed": false
   }
  },
  {
   "cell_type": "markdown",
   "source": [
    "Next function is `find_min_cut`, which takes two templates as\n",
    "input and returns the min-cut of their difference:"
   ],
   "metadata": {
    "collapsed": false
   }
  },
  {
   "cell_type": "code",
   "execution_count": null,
   "outputs": [],
   "source": [
    "def find_min_cut(template1, template2):\n",
    "    difference = np.sum(np.square(template1 - template2), axis=2, keepdims=True).reshape(\n",
    "        (template1.shape[0], template1.shape[1]))\n",
    "    weights = np.zeros(difference.shape)\n",
    "    weights[0, :] = difference[0, :].copy()\n",
    "    for j in range(1, difference.shape[0]):\n",
    "        for i in range(difference.shape[1]):\n",
    "            if i == 0:\n",
    "                weights[j, i] = difference[j, i] + min(weights[j - 1, i], weights[j - 1, i + 1])\n",
    "            elif i == difference.shape[1] - 1:\n",
    "                weights[j, i] = difference[j, i] + min(weights[j - 1, i], weights[j - 1, i - 1])\n",
    "            else:\n",
    "                weights[j, i] = difference[j, i] + min(weights[j - 1, i], weights[j - 1, i + 1], weights[j - 1, i - 1])\n",
    "    result = find_path(weights)\n",
    "    return result\n"
   ],
   "metadata": {
    "collapsed": false,
    "pycharm": {
     "name": "#%%\n"
    }
   }
  },
  {
   "cell_type": "markdown",
   "source": [
    "After calculating the SSD of two templates, a weights matrix is\n",
    "calculated and given as input to function `find_path`, described\n",
    "before.\n"
   ],
   "metadata": {
    "collapsed": false,
    "pycharm": {
     "name": "#%% md\n"
    }
   }
  },
  {
   "cell_type": "markdown",
   "source": [
    "Now after implementing functions needed for filling the first\n",
    " row, we implement function `first_row_synthesis`, which does this:"
   ],
   "metadata": {
    "collapsed": false
   }
  },
  {
   "cell_type": "code",
   "execution_count": null,
   "outputs": [],
   "source": [
    "def first_row_synthesis(img, texture, patch_size, overlap):\n",
    "    first_patch = get_random_patch(texture, patch_size)\n",
    "    img[0:patch_size[0], 0:patch_size[1], :] = first_patch\n",
    "    number_of_patches = int((img.shape[1] - patch_size[1]) / (patch_size[1] - overlap))\n",
    "    cut_from_end = patch_size[1]\n",
    "    for i in range(number_of_patches):\n",
    "        template_x = (i + 1) * (patch_size[0] - overlap)\n",
    "        template = img[0:patch_size[1], template_x:template_x + overlap, :].copy()\n",
    "        x, y = find_patch_from_template(texture[:, 0:-cut_from_end, :], template)\n",
    "        template2 = texture[x:x + patch_size[0], y:y + overlap, :].copy()\n",
    "        min_cut = find_min_cut(template, template2)\n",
    "        final_template = (min_cut * template + (1 - min_cut) * template2).copy()\n",
    "        img[0:patch_size[0], template_x:template_x + overlap, :] = final_template.copy()\n",
    "        patch = texture[x:x + patch_size[0], y + overlap:y + patch_size[1], :].copy()\n",
    "        img[0:patch_size[0], template_x + overlap:template_x + patch_size[0], :] = patch.copy()"
   ],
   "metadata": {
    "collapsed": false,
    "pycharm": {
     "name": "#%%\n"
    }
   }
  },
  {
   "cell_type": "markdown",
   "source": [
    "Function starts by putting a random patch on the top left of the\n",
    "empty image, and fills the rest of the row by matching a 100 in 200\n",
    "template from the end of the row with texture, selecting one of the\n",
    "matches randomly, calculating the min-cut of the matched template\n",
    "with the template taken from the row, and attaching a patch to the\n",
    "end of the row using min-cut and matched template."
   ],
   "metadata": {
    "collapsed": false
   }
  },
  {
   "cell_type": "markdown",
   "source": [
    "## Synthesising other rows\n",
    "\n",
    "Functions implemented from here are used for synthesising other rows.\n"
   ],
   "metadata": {
    "collapsed": false
   }
  },
  {
   "cell_type": "markdown",
   "source": [
    "The `find_patch_from_L_template` takes a texture, template and a\n",
    "mask ( with L form ) and uses template matching to find all\n",
    "templates matching with the given one. Implementation is similar to\n",
    "`find_patch_from_template` function described before :\n"
   ],
   "metadata": {
    "collapsed": false
   }
  },
  {
   "cell_type": "code",
   "execution_count": null,
   "outputs": [],
   "source": [
    "def find_patch_from_L_template(texture, template, mask):\n",
    "    search_result = cv2.matchTemplate(texture, template, cv2.TM_CCORR_NORMED, mask=mask)\n",
    "    threshold = 0.95\n",
    "    while threshold > 0.5:\n",
    "        match_points_x, match_points_y = np.where(search_result > threshold)\n",
    "        if match_points_x.size > 0:\n",
    "            i = random.randint(0, match_points_x.size - 1)\n",
    "            x, y = match_points_x[i], match_points_y[i]\n",
    "            return x, y\n",
    "        threshold -= 0.05"
   ],
   "metadata": {
    "collapsed": false,
    "pycharm": {
     "name": "#%%\n"
    }
   }
  },
  {
   "cell_type": "markdown",
   "source": [
    "function `find_L_min_cut` takes as input two templates, template1\n",
    " and template2 of the form 'L', and a value n=overlap, indicating the\n",
    "  thickness of 'L', and returns the L-min-cut of templates.\n",
    "  For implementing this, we first find the min-cut of the first n\n",
    "  rows of each template and store it in a matrix `top_min_cut`, and\n",
    "  similarly do this for the first n columns of templates and store it\n",
    "   in a matrix `left_min_cut`, and finally compute the logical or of\n",
    "   these two matrices with the first n rows and n columns of the result\n",
    "    matrix , which is initially all zero. This will result a matrix\n",
    "    having 1 in cells above the min-cut, and 0 below the min-cut:"
   ],
   "metadata": {
    "collapsed": false
   }
  },
  {
   "cell_type": "code",
   "execution_count": null,
   "outputs": [],
   "source": [
    "def find_L_min_cut(template1, template2, overlap):\n",
    "    result = np.zeros(template1.shape)\n",
    "    top_min_cut = find_min_cut(template1[0:overlap, :, :].transpose(1, 0, 2),\n",
    "                               template2[0:overlap, :, :].transpose(1, 0, 2)).transpose(1, 0, 2)\n",
    "    left_min_cut = find_min_cut(template1[:, 0:overlap, :], template2[:, 0:overlap, :])\n",
    "    result[0:overlap, :, :] = np.logical_or(result[0:overlap, :, :], top_min_cut)\n",
    "    result[:, 0:overlap, :] = np.logical_or(result[:, 0:overlap, :], left_min_cut)\n",
    "    return result"
   ],
   "metadata": {
    "collapsed": false,
    "pycharm": {
     "name": "#%%\n"
    }
   }
  },
  {
   "cell_type": "markdown",
   "source": [
    "Now that we have implemented matching and min-cut functions for next\n",
    "rows, we can put all these together and implement the function `synthesis_row_i`:"
   ],
   "metadata": {
    "collapsed": false
   }
  },
  {
   "cell_type": "code",
   "execution_count": null,
   "outputs": [],
   "source": [
    "def synthesis_row_i(img, texture, patch_size, overlap, i):\n",
    "    x = i * (patch_size[0] - overlap)\n",
    "    template = img[x:x + overlap, 0:patch_size[1], :].copy()\n",
    "    x1, y1 = find_patch_from_template(texture[0:-patch_size[0], :, :], template)\n",
    "    template2 = texture[x1:x1 + overlap, y1:y1 + patch_size[1], :].copy()\n",
    "    min_cut = find_min_cut(template.transpose(1, 0, 2), template2.transpose(1, 0, 2)).transpose(1, 0, 2)\n",
    "    final_template = (min_cut * template + (1 - min_cut) * template2).copy()\n",
    "    img[x:x + overlap, 0:patch_size[1], :] = final_template.copy()\n",
    "    patch = texture[x1 + overlap:x1 + patch_size[0], y1:y1 + patch_size[1], :].copy()\n",
    "    print(patch.shape)\n",
    "    img[x + overlap:x + patch_size[0], 0:patch_size[1], :] = patch.copy()\n",
    "    ''' synthesising the rest of the row '''\n",
    "    mask = np.zeros((patch_size[0], patch_size[1], 3), dtype='uint8')\n",
    "    mask[0:overlap, :, :] = 1\n",
    "    mask[:, 0:overlap, :] = 1\n",
    "    number_of_patches = int((img.shape[1] - patch_size[1]) / (patch_size[1] - overlap))\n",
    "    for j in range(number_of_patches):\n",
    "        template_x = (j + 1) * (patch_size[0] - overlap)\n",
    "        template = img[x:x + patch_size[1], template_x:template_x + patch_size[0], :].copy()\n",
    "        x1, y1 = find_patch_from_L_template(texture[0:-patch_size[0], 0:-patch_size[0], :], template, mask)\n",
    "        template2 = texture[x1:x1 + patch_size[1], y1:y1 + patch_size[0], :].copy()\n",
    "        min_cut = find_L_min_cut(template, template2, overlap)\n",
    "        patch = (min_cut * template + (1 - min_cut) * template2).copy()\n",
    "        img[x:x + patch_size[0], template_x:template_x + patch_size[1], :] = patch.copy()"
   ],
   "metadata": {
    "collapsed": false,
    "pycharm": {
     "name": "#%%\n"
    }
   }
  },
  {
   "cell_type": "markdown",
   "source": [
    "implementation of this function is just similar to `first_row_synthesis`,\n",
    "only difference is that it uses the two above functions for matching\n",
    "templates and finding min-cut."
   ],
   "metadata": {
    "collapsed": false
   }
  },
  {
   "cell_type": "markdown",
   "source": [
    "Finally, we have implemented everything required for synthesising next rows.\n",
    "Function `next_rows_synthesis` takes an image, a texture, patch size and overlap\n",
    "as input and synthesises other rows on the image with texture, assuming\n",
    "that the first row is already synthesised."
   ],
   "metadata": {
    "collapsed": false
   }
  },
  {
   "cell_type": "code",
   "execution_count": null,
   "outputs": [],
   "source": [
    "def next_rows_synthesis(img, texture, patch_size, overlap):\n",
    "    num_of_iterations = int(img.shape[0] / (patch_size[0] - overlap) - 1)\n",
    "    for i in range(1, num_of_iterations):\n",
    "        synthesis_row_i(img, texture, patch_size, overlap, i)\n"
   ],
   "metadata": {
    "collapsed": false,
    "pycharm": {
     "name": "#%%\n"
    }
   }
  },
  {
   "cell_type": "markdown",
   "source": [
    "The final function `apply_texture_synthesis` takes a texture, the result\n",
    "image shape, patch size and overlap value as input and outputs an image\n",
    "containing both synthesised and original texture:"
   ],
   "metadata": {
    "collapsed": false,
    "pycharm": {
     "name": "#%% md\n"
    }
   }
  },
  {
   "cell_type": "code",
   "execution_count": null,
   "outputs": [],
   "source": [
    "def apply_texture_synthesis(texture, result_shape, patch_size, overlap):\n",
    "    result = np.zeros(result_shape, dtype='uint8')\n",
    "    first_row_synthesis(result, texture, patch_size, overlap)\n",
    "    next_rows_synthesis(result, texture, patch_size, overlap)\n",
    "    final_result = np.zeros((result_shape[0], result_shape[1] + texture.shape[1] + overlap, result_shape[2]),\n",
    "                            dtype='uint8')\n",
    "    final_result[:, :result_shape[1], :] = result\n",
    "    final_result[:texture.shape[0], result_shape[1] + overlap:, :] = texture\n",
    "    return final_result"
   ],
   "metadata": {
    "collapsed": false,
    "pycharm": {
     "name": "#%%\n"
    }
   }
  },
  {
   "cell_type": "markdown",
   "source": [
    "## Using Previous function for synthesising given textures\n",
    "In main file, we just open texture images, iterate over them and perform\n",
    " texture synthesis implemented in previous method :"
   ],
   "metadata": {
    "collapsed": false
   }
  },
  {
   "cell_type": "code",
   "execution_count": null,
   "outputs": [],
   "source": [
    "import cv2\n",
    "import q2_funcs\n",
    "\n",
    "input_paths = [\"inputs/texture03.jpg\", \"inputs/texture08.jpg\",\n",
    "               \"inputs/texture6.jpg\", \"inputs/texture10.jpg\"]\n",
    "output_paths = [\"outputs/res11.jpg\", \"outputs/res12.jpg\",\n",
    "                \"outputs/res13.jpg\", \"outputs/res14.jpg\"]\n",
    "\n",
    "result_shape = (2500, 2500, 3)\n",
    "patch_size = (200, 200)\n",
    "overlap = 100\n",
    "\n",
    "for i in range(len(input_paths)):\n",
    "    print(i)\n",
    "    print(input_paths[i])\n",
    "    texture = cv2.imread(input_paths[i])\n",
    "    print(texture.shape)\n",
    "    result = q2_funcs.apply_texture_synthesis(texture, result_shape, patch_size, overlap)\n",
    "    cv2.imwrite(output_paths[i], result)"
   ],
   "metadata": {
    "collapsed": false,
    "pycharm": {
     "name": "#%%\n"
    }
   }
  }
 ],
 "metadata": {
  "kernelspec": {
   "display_name": "Python 3",
   "language": "python",
   "name": "python3"
  },
  "language_info": {
   "codemirror_mode": {
    "name": "ipython",
    "version": 2
   },
   "file_extension": ".py",
   "mimetype": "text/x-python",
   "name": "python",
   "nbconvert_exporter": "python",
   "pygments_lexer": "ipython2",
   "version": "2.7.6"
  }
 },
 "nbformat": 4,
 "nbformat_minor": 0
}