{
 "cells": [
  {
   "cell_type": "code",
   "execution_count": null,
   "metadata": {
    "collapsed": true
   },
   "outputs": [],
   "source": [
    "##Question 1: Hough Transform"
   ]
  },
  {
   "cell_type": "markdown",
   "source": [
    "functions used in the question are implemented in `q1_funcs` file:"
   ],
   "metadata": {
    "collapsed": false
   }
  },
  {
   "cell_type": "markdown",
   "source": [
    "## q1_funcs\n",
    "\n",
    "The first function in this file is `generate_accumulator_array`,\n",
    "which takes a binary image containing the edges of the image,\n",
    "and two arrays containing the range of rho and theta in accumulator\n",
    "matrix and outputs the matrix :"
   ],
   "metadata": {
    "collapsed": false
   }
  },
  {
   "cell_type": "code",
   "execution_count": null,
   "outputs": [],
   "source": [
    "import numpy as np\n",
    "import cv2\n",
    "\n",
    "\n",
    "def generate_accumulator_array(img_edge, rho_range, theta_range):\n",
    "    result = np.zeros((rho_range.size, theta_range.size))\n",
    "    offset = int(rho_range.size / 2)\n",
    "    mask = np.where(img_edge > 0)\n",
    "    for i in range(mask[0].size):\n",
    "        y, x = mask[0][i], mask[1][i]\n",
    "        for theta in theta_range:\n",
    "            theta_rad = np.deg2rad(theta)\n",
    "            rho = np.round(x * np.cos(theta_rad) + y * np.sin(theta_rad)) + offset\n",
    "            result[int(rho), int(theta)] += 1\n",
    "\n",
    "    return result"
   ],
   "metadata": {
    "collapsed": false,
    "pycharm": {
     "name": "#%%\n"
    }
   }
  },
  {
   "cell_type": "markdown",
   "source": [
    "For each point on an edge, function iterates on different values of\n",
    "theta and finds the corresponding rho, and votes the corresponding\n",
    "cell in result matrix."
   ],
   "metadata": {
    "collapsed": false
   }
  },
  {
   "cell_type": "markdown",
   "source": [
    "Function `draw_line_with_slope` takes an image,a value m as\n",
    "line slope, a value b and a color and draws a line with given m and b\n",
    "on the image :"
   ],
   "metadata": {
    "collapsed": false,
    "pycharm": {
     "name": "#%% md\n"
    }
   }
  },
  {
   "cell_type": "code",
   "execution_count": null,
   "outputs": [],
   "source": [
    "def draw_line_with_slope(img, m, b, color=(255, 0, 0)):\n",
    "    height, width = img[:, :, 0].shape\n",
    "    x1, x2, y1, y2 = int(-b / m), int((height - b) / m), int(b), int(m * width + b)\n",
    "    if 0 <= x1 <= width and 0 <= y1 <= height:\n",
    "        cv2.line(img, (x1, 0), (0, y1), color, 3)\n",
    "    elif 0 <= x1 <= width and 0 <= y2 <= height:\n",
    "        cv2.line(img, (x1, 0), (width, y2), color, 3)\n",
    "    elif 0 <= x2 <= width and 0 <= y1 <= height:\n",
    "        cv2.line(img, (x2, height), (0, y1), color, 3)\n",
    "    elif 0 <= x2 <= width and 0 <= y2 <= height:\n",
    "        cv2.line(img, (x2, height), (width, y2), color, 3)\n",
    "    elif 0 <= x1 <= width and 0 <= x2 <= width:\n",
    "        cv2.line(img, (x1, 0), (x2, height), color, 3)\n",
    "    elif 0 <= y1 <= height and 0 <= y2 <= height:\n",
    "        cv2.line(img, (0, y1), (width, y2), color, 3)"
   ],
   "metadata": {
    "collapsed": false,
    "pycharm": {
     "name": "#%%\n"
    }
   }
  },
  {
   "cell_type": "markdown",
   "source": [
    "`draw_line` function takes an image and values rho and theta,\n",
    "calculates corresponding slope and b, and uses the previous\n",
    "function to draw a line on image (also outputs m and b):"
   ],
   "metadata": {
    "collapsed": false
   }
  },
  {
   "cell_type": "code",
   "execution_count": null,
   "outputs": [],
   "source": [
    "def draw_line(img, rho, theta):\n",
    "    theta_rad = np.deg2rad(theta)\n",
    "    sin, cos = np.sin(theta_rad), np.cos(theta_rad)\n",
    "    if sin == 0:\n",
    "        sin += 0.00000001\n",
    "    if cos == 0:\n",
    "        cos += 0.00000001\n",
    "    m, b = -cos / sin, rho / sin\n",
    "    draw_line_with_slope(img, m, b)\n",
    "    return [m, b]"
   ],
   "metadata": {
    "collapsed": false,
    "pycharm": {
     "name": "#%%\n"
    }
   }
  },
  {
   "cell_type": "markdown",
   "source": [
    "Function `draw_lines` uses accumulator array and a threshold to\n",
    "draw lines on the image, using the functions implemented before.\n",
    "it also outputs a matrix containing the slope and width of the\n",
    "drawn lines :"
   ],
   "metadata": {
    "collapsed": false
   }
  },
  {
   "cell_type": "code",
   "execution_count": null,
   "outputs": [],
   "source": [
    "def draw_lines(accumulator_array, img, threshold, rho_offset):\n",
    "    mask = np.where(accumulator_array > threshold)\n",
    "    lines = np.zeros((2, 0))\n",
    "    min_rho_diff, min_theta_diff = 30, 45\n",
    "    prev_rho, prev_theta = int(mask[0][0]), int(mask[1][0])\n",
    "    for i in range(mask[0].size):\n",
    "        rho, theta = int(mask[0][i]), int(mask[1][i])\n",
    "        if theta > 2 and np.abs(theta - 90) > 2:\n",
    "            if np.abs(rho - prev_rho) > min_rho_diff or np.abs(theta - prev_theta) > min_theta_diff:\n",
    "                [m, b] = draw_line(img, rho - rho_offset, theta)\n",
    "                lines = np.c_[lines, [m, b]]\n",
    "                prev_rho, prev_theta = rho, theta\n",
    "    return lines"
   ],
   "metadata": {
    "collapsed": false,
    "pycharm": {
     "name": "#%%\n"
    }
   }
  },
  {
   "cell_type": "markdown",
   "source": [
    "From here, some functions are implemented for filtering lines and\n",
    "drawing corners. The first one is `find_cross` , which takes\n",
    "as two lines as input and outputs the intersection :"
   ],
   "metadata": {
    "collapsed": false
   }
  },
  {
   "cell_type": "code",
   "execution_count": null,
   "outputs": [],
   "source": [
    "def find_cross(m1, b1, m2, b2):\n",
    "    x = int((b2 - b1) / (m1 - m2))\n",
    "    y = int(m1 * x + b1)\n",
    "    return y, x\n"
   ],
   "metadata": {
    "collapsed": false,
    "pycharm": {
     "name": "#%%\n"
    }
   }
  },
  {
   "cell_type": "markdown",
   "source": [
    "Next function takes four integer input ( which are the sums of\n",
    "r,g,b channels of some points in the image ) and returns True\n",
    "if at least one of the two face to face values have a rather small difference,\n",
    "or at least two of the adjacent values have a rather large value. Notice\n",
    "that if the colors are taken around one corner of a chess cell,\n",
    "then at least one of these two conditions must hold.\n",
    "This function is used to check whether a cross point is a valid point of\n",
    " chess or not :"
   ],
   "metadata": {
    "collapsed": false
   }
  },
  {
   "cell_type": "code",
   "execution_count": null,
   "outputs": [],
   "source": [
    "def is_colors_valid(color_l, color_r, color_u, color_d):\n",
    "    dif1, dif2, dif3 = np.abs(int(color_l) - int(color_d)), np.abs(int(color_l) - int(color_r)), np.abs(\n",
    "        int(color_l) - int(color_u))\n",
    "    dif4, dif5, dif6 = np.abs(int(color_r) - int(color_d)), np.abs(int(color_r) - int(color_u)), np.abs(\n",
    "        int(color_u) - int(color_d))\n",
    "    if (dif2 < 50 or dif6 < 50) and (dif4 > 300 or dif5 > 300):\n",
    "        return True\n",
    "\n",
    "    return False"
   ],
   "metadata": {
    "collapsed": false,
    "pycharm": {
     "name": "#%%\n"
    }
   }
  },
  {
   "cell_type": "markdown",
   "source": [
    "Function `is_point_valid` takes two points and the slope of the line\n",
    "passing through the point and determines whether the point is valid\n",
    ", using the function described above."
   ],
   "metadata": {
    "collapsed": false
   }
  },
  {
   "cell_type": "code",
   "execution_count": null,
   "outputs": [],
   "source": [
    "def is_point_valid(img, x, y, m):\n",
    "    height, width = img.shape\n",
    "    offset = 15\n",
    "    if offset <= x < width - offset and offset <= y < height - offset:\n",
    "        xl, xr, xu, xd = x - offset, x + offset, x, x\n",
    "        yl, yr, yu, yd = y, y, y - offset, y + offset\n",
    "        color_l, color_r, color_u, color_d = img[yl, xl], img[yr, xr], img[yu, xu], img[yd, xd]\n",
    "        print(x,y)\n",
    "        return is_colors_valid(color_l, color_r, color_u, color_d)\n",
    "\n",
    "    return False"
   ],
   "metadata": {
    "collapsed": false,
    "pycharm": {
     "name": "#%%\n"
    }
   }
  },
  {
   "cell_type": "markdown",
   "source": [
    "Using the above function, we implement the function `is_line_valid` which takes\n",
    " a line as input and determines using the above functions, whether the line\n",
    " is valid or not , by checking if it contains a minimum number of valid points\n",
    " ( which we represent with limit )"
   ],
   "metadata": {
    "collapsed": false
   }
  },
  {
   "cell_type": "code",
   "execution_count": null,
   "outputs": [],
   "source": [
    "def is_line_valid(img_gray, m, b, lines, limit=8):\n",
    "    counter = 0\n",
    "    for i in range(lines.shape[1]):\n",
    "        m2, b2 = lines[0, i], lines[1, i]\n",
    "        if np.abs(m - m2) > 0.3:\n",
    "            y, x = find_cross(m, b, m2, b2)\n",
    "            if is_point_valid(img_gray, x, y, m):\n",
    "                counter += 1\n",
    "    if counter >= limit:\n",
    "        return True\n",
    "    return False"
   ],
   "metadata": {
    "collapsed": false,
    "pycharm": {
     "name": "#%%\n"
    }
   }
  },
  {
   "cell_type": "markdown",
   "source": [
    "The code iterates on all the lines and finds their crossing point\n",
    "with the given line, and checks whether these points are valid or not.\n",
    "if the number of valid points on a line is bigger than a certain limit,\n",
    "then line is considered as valid."
   ],
   "metadata": {
    "collapsed": false,
    "pycharm": {
     "name": "#%% md\n"
    }
   }
  },
  {
   "cell_type": "markdown",
   "source": [
    "Finally, we are ready to implement function `filter_lines_by_cross_points`,\n",
    "which takes the image, lines and a limit, and uses above functions to\n",
    "determine valid lines. Function outputs a list containing the valid lines:\n",
    "\n"
   ],
   "metadata": {
    "collapsed": false
   }
  },
  {
   "cell_type": "code",
   "execution_count": null,
   "outputs": [],
   "source": [
    "def filter_lines_by_cross_points(img, lines, limit=8):\n",
    "    valid_lines = np.zeros((2, 0))\n",
    "    img_gray = np.sum(img, axis=2, keepdims=True).reshape((img.shape[0], img.shape[1])).astype('int')\n",
    "    print(img_gray.shape)\n",
    "    for i in range(lines.shape[1]):\n",
    "        m, b = lines[0, i], lines[1, i]\n",
    "        if is_line_valid(img_gray, m, b, lines, limit):\n",
    "            valid_lines = np.c_[valid_lines, [m, b]]\n",
    "\n",
    "    return valid_lines"
   ],
   "metadata": {
    "collapsed": false,
    "pycharm": {
     "name": "#%%\n"
    }
   }
  },
  {
   "cell_type": "markdown",
   "source": [
    "The last two functions are used to draw lines and corners. Their\n",
    "implementation is rather straightforward :"
   ],
   "metadata": {
    "collapsed": false
   }
  },
  {
   "cell_type": "code",
   "execution_count": null,
   "outputs": [],
   "source": [
    "def draw_lines_with_slope(img, lines, color=(255, 0, 0)):\n",
    "    for i in range(lines.shape[1]):\n",
    "        m, b = lines[0, i], lines[1, i]\n",
    "        draw_line_with_slope(img, m, b, color)\n",
    "\n",
    "\n",
    "def draw_corners(img, valid_lines):\n",
    "    for i in range(valid_lines.shape[1]):\n",
    "        m1, b1 = valid_lines[0, i], valid_lines[1, i]\n",
    "        for j in range(valid_lines.shape[1]):\n",
    "            m2, b2 = valid_lines[0, j], valid_lines[1, j]\n",
    "            if np.abs(m1 - m2) > 0.1:\n",
    "                y, x = find_cross(m1, b1, m2, b2)\n",
    "                cv2.circle(img, (x, y), 5, (0, 255, 0), -1)"
   ],
   "metadata": {
    "collapsed": false,
    "pycharm": {
     "name": "#%%\n"
    }
   }
  },
  {
   "cell_type": "markdown",
   "source": [
    "## Main code for problem"
   ],
   "metadata": {
    "collapsed": false
   }
  },
  {
   "cell_type": "markdown",
   "source": [
    "Finally, after implementing all required functions, we can put them\n",
    "together and apply them for the given images:"
   ],
   "metadata": {
    "collapsed": false
   }
  },
  {
   "cell_type": "code",
   "execution_count": null,
   "outputs": [],
   "source": [
    "import copy\n",
    "\n",
    "import matplotlib.pyplot as plt\n",
    "import numpy as np\n",
    "import cv2\n",
    "import q1_funcs\n",
    "\n",
    "#### Question 1 : Hough Transform ####\n",
    "import q1_funcs\n",
    "\n",
    "input_paths = [\"inputs/im01.jpg\", \"inputs/im02.jpg\"]\n",
    "output_paths = [\"outputs/res01.jpg\", \"outputs/res02.jpg\", \"outputs/res03-hough-space.jpg\"\n",
    "    , \"outputs/res04-hough-space.jpg\", \"outputs/res05-lines.jpg\", \"outputs/res06-lines.jpg\",\n",
    "                \"outputs/res07-chess.jpg\", \"outputs/res08-chess.jpg\",\n",
    "                \"outputs/res09-corners.jpg\", \"outputs/res10-corners.jpg\"]\n",
    "\n",
    "''' first image '''\n",
    "im1 = cv2.imread(input_paths[0])\n",
    "im1 = cv2.cvtColor(im1, cv2.COLOR_BGR2RGB)"
   ],
   "metadata": {
    "collapsed": false,
    "pycharm": {
     "name": "#%%\n"
    }
   }
  },
  {
   "cell_type": "markdown",
   "source": [
    "After opening the image, we use Canny edge detection algorithm\n",
    "to get the edges of the image:"
   ],
   "metadata": {
    "collapsed": false
   }
  },
  {
   "cell_type": "code",
   "execution_count": null,
   "outputs": [],
   "source": [
    "'''  detecting edges '''\n",
    "img_edge_1 = cv2.Canny(im1, 350, 350)\n",
    "\n",
    "number_of_good_points_limit = 3\n",
    "\n",
    "# showing and saving\n",
    "plt.imshow(img_edge_1, cmap=\"gray\")\n",
    "plt.savefig(output_paths[0])\n",
    "plt.show()"
   ],
   "metadata": {
    "collapsed": false,
    "pycharm": {
     "name": "#%%\n"
    }
   }
  },
  {
   "cell_type": "markdown",
   "source": [
    "Now we generate accumulator array from edges and save an image of it:"
   ],
   "metadata": {
    "collapsed": false
   }
  },
  {
   "cell_type": "code",
   "execution_count": null,
   "outputs": [],
   "source": [
    "'''  generating accumulator array '''\n",
    "max_distance = int(np.ceil(np.sqrt(im1.shape[0] ** 2 + im1.shape[1] ** 2)))\n",
    "rho_range = np.linspace(-int(max_distance), int(max_distance), max_distance * 2)\n",
    "theta_range = np.linspace(0, 179, 180)\n",
    "threshold = 100\n",
    "\n",
    "accumulator_array1 = q1_funcs.generate_accumulator_array(img_edge_1, rho_range, theta_range)\n",
    "plt.imshow(accumulator_array1)\n",
    "plt.savefig(output_paths[2])\n",
    "plt.show()"
   ],
   "metadata": {
    "collapsed": false,
    "pycharm": {
     "name": "#%%\n"
    }
   }
  },
  {
   "cell_type": "markdown",
   "source": [
    "From here, we get the lines from accumulator array, draw them,\n",
    "remove irrelevant ones and select corners using the functions\n",
    "defined earlier :"
   ],
   "metadata": {
    "collapsed": false,
    "pycharm": {
     "name": "#%% md\n"
    }
   }
  },
  {
   "cell_type": "code",
   "execution_count": null,
   "outputs": [],
   "source": [
    "''' drawing lines '''\n",
    "img_lines_1 = im1.copy()\n",
    "lines1 = q1_funcs.draw_lines(accumulator_array1, img_lines_1, threshold, int(rho_range.size / 2))\n",
    "q1_funcs.filter_lines_by_cross_points(img_lines_1, lines1)\n",
    "plt.imshow(img_lines_1)\n",
    "plt.savefig(output_paths[4])\n",
    "plt.show()\n",
    "\n",
    "''' removing irrelevant lines '''\n",
    "img_valid_lines1 = copy.deepcopy(im1)\n",
    "valid_lines = q1_funcs.filter_lines_by_cross_points(im1, lines1, number_of_good_points_limit)\n",
    "q1_funcs.draw_lines_with_slope(img_valid_lines1, valid_lines, color=(0, 0, 255))\n",
    "plt.imshow(img_valid_lines1)\n",
    "plt.savefig(output_paths[6])\n",
    "plt.show()\n",
    "\n",
    "''' drawing corners '''\n",
    "img_corners1 = im1.copy()\n",
    "q1_funcs.draw_corners(img_corners1, valid_lines)\n",
    "plt.imshow(img_corners1)\n",
    "plt.savefig(output_paths[8])\n",
    "plt.show()"
   ],
   "metadata": {
    "collapsed": false,
    "pycharm": {
     "name": "#%%\n"
    }
   }
  },
  {
   "cell_type": "markdown",
   "source": [
    "Repeating all the above steps for the second image :"
   ],
   "metadata": {
    "collapsed": false
   }
  },
  {
   "cell_type": "code",
   "execution_count": null,
   "outputs": [],
   "source": [
    "''' second image '''\n",
    "\n",
    "im2 = cv2.imread(input_paths[1])\n",
    "im2 = cv2.cvtColor(im2, cv2.COLOR_BGR2RGB)\n",
    "\n",
    "''' detecting edges '''\n",
    "img_edge_2 = cv2.Canny(im2, 350, 350)\n",
    "\n",
    "plt.imshow(img_edge_2, cmap='gray')\n",
    "plt.savefig(output_paths[1])\n",
    "plt.show()\n",
    "\n",
    "'''  generating accumulator array '''\n",
    "max_distance = int(np.ceil(np.sqrt(im2.shape[0] ** 2 + im2.shape[1] ** 2)))\n",
    "rho_range = np.linspace(-int(max_distance), int(max_distance), max_distance * 2)\n",
    "\n",
    "accumulator_array2 = q1_funcs.generate_accumulator_array(img_edge_2, rho_range, theta_range)\n",
    "plt.imshow(accumulator_array2)\n",
    "plt.savefig(output_paths[3])\n",
    "plt.show()\n",
    "\n",
    "''' drawing lines '''\n",
    "img_lines_2 = im2.copy()\n",
    "lines2 = q1_funcs.draw_lines(accumulator_array2, img_lines_2, threshold, int(rho_range.size / 2))\n",
    "q1_funcs.filter_lines_by_cross_points(img_lines_2, lines2)\n",
    "plt.imshow(img_lines_2)\n",
    "plt.savefig(output_paths[5])\n",
    "plt.show()\n",
    "\n",
    "''' removing irrelevant lines '''\n",
    "img_valid_lines2 = copy.deepcopy(im2)\n",
    "valid_lines2 = q1_funcs.filter_lines_by_cross_points(im2, lines2, number_of_good_points_limit)\n",
    "q1_funcs.draw_lines_with_slope(img_valid_lines2, valid_lines2, color=(0, 0, 255))\n",
    "plt.imshow(img_valid_lines2)\n",
    "plt.savefig(output_paths[7])\n",
    "plt.show()\n",
    "\n",
    "''' drawing corners '''\n",
    "img_corners2 = im2.copy()\n",
    "q1_funcs.draw_corners(img_corners2, valid_lines2)\n",
    "plt.imshow(img_corners2)\n",
    "plt.savefig(output_paths[9])\n",
    "plt.show()\n",
    "\n",
    "\n"
   ],
   "metadata": {
    "collapsed": false,
    "pycharm": {
     "name": "#%%\n"
    }
   }
  }
 ],
 "metadata": {
  "kernelspec": {
   "display_name": "Python 3",
   "language": "python",
   "name": "python3"
  },
  "language_info": {
   "codemirror_mode": {
    "name": "ipython",
    "version": 2
   },
   "file_extension": ".py",
   "mimetype": "text/x-python",
   "name": "python",
   "nbconvert_exporter": "python",
   "pygments_lexer": "ipython2",
   "version": "2.7.6"
  }
 },
 "nbformat": 4,
 "nbformat_minor": 0
}